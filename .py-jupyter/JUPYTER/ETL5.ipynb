{
 "cells": [
  {
   "cell_type": "code",
   "execution_count": 1,
   "metadata": {},
   "outputs": [],
   "source": [
    "import pandas as pd"
   ]
  },
  {
   "cell_type": "code",
   "execution_count": 15,
   "metadata": {},
   "outputs": [],
   "source": [
    "#pip install fastparquet"
   ]
  },
  {
   "cell_type": "code",
   "execution_count": 16,
   "metadata": {},
   "outputs": [],
   "source": [
    "#pip install pyarrow"
   ]
  },
  {
   "cell_type": "code",
   "execution_count": 2,
   "metadata": {},
   "outputs": [],
   "source": [
    "import funciones_transformacion"
   ]
  },
  {
   "cell_type": "code",
   "execution_count": 9,
   "metadata": {},
   "outputs": [],
   "source": [
    "#archivo sucursal \n",
    "#obtener ids del archivo\n",
    "url = \"https://drive.google.com/file/d/1skuhvdTkgh_GZ9wL0FEf3uxSZu7wU-mX/view?usp=sharing\"\n",
    "file_id=url.split('/')[-2]\n",
    "dwn_url='https://drive.google.com/uc?id=' + file_id\n",
    "#archivo csv que descargo desde el drive\n",
    "sucursal_df = pd.read_csv(dwn_url)\n"
   ]
  },
  {
   "cell_type": "code",
   "execution_count": 11,
   "metadata": {},
   "outputs": [],
   "source": [
    "#archivo precios\n",
    "url = \"https://drive.google.com/file/d/1AV8qQFLoiuX2yahyuE8PAjf5qXwdp4Qf/view?usp=sharing\"\n",
    "file_id=url.split('/')[-2]\n",
    "dwn_url='https://drive.google.com/uc?id=' + file_id\n",
    "#archivo csv que descargo desde el drive\n",
    "archivo_precios = pd.read_csv(dwn_url, delimiter=\"|\")"
   ]
  },
  {
   "cell_type": "code",
   "execution_count": 12,
   "metadata": {},
   "outputs": [
    {
     "data": {
      "text/html": [
       "<div>\n",
       "<style scoped>\n",
       "    .dataframe tbody tr th:only-of-type {\n",
       "        vertical-align: middle;\n",
       "    }\n",
       "\n",
       "    .dataframe tbody tr th {\n",
       "        vertical-align: top;\n",
       "    }\n",
       "\n",
       "    .dataframe thead th {\n",
       "        text-align: right;\n",
       "    }\n",
       "</style>\n",
       "<table border=\"1\" class=\"dataframe\">\n",
       "  <thead>\n",
       "    <tr style=\"text-align: right;\">\n",
       "      <th></th>\n",
       "      <th>precio</th>\n",
       "      <th>producto_id</th>\n",
       "      <th>sucursal_id</th>\n",
       "    </tr>\n",
       "  </thead>\n",
       "  <tbody>\n",
       "    <tr>\n",
       "      <th>0</th>\n",
       "      <td>29.90</td>\n",
       "      <td>0000000002288</td>\n",
       "      <td>2-1-009</td>\n",
       "    </tr>\n",
       "    <tr>\n",
       "      <th>1</th>\n",
       "      <td>32.90</td>\n",
       "      <td>0000000002288</td>\n",
       "      <td>2-1-037</td>\n",
       "    </tr>\n",
       "    <tr>\n",
       "      <th>2</th>\n",
       "      <td>36.90</td>\n",
       "      <td>0000000002288</td>\n",
       "      <td>2-1-090</td>\n",
       "    </tr>\n",
       "    <tr>\n",
       "      <th>3</th>\n",
       "      <td>39.90</td>\n",
       "      <td>0000000002288</td>\n",
       "      <td>2-3-247</td>\n",
       "    </tr>\n",
       "    <tr>\n",
       "      <th>4</th>\n",
       "      <td>499.99</td>\n",
       "      <td>0000000205870</td>\n",
       "      <td>9-1-430</td>\n",
       "    </tr>\n",
       "    <tr>\n",
       "      <th>...</th>\n",
       "      <td>...</td>\n",
       "      <td>...</td>\n",
       "      <td>...</td>\n",
       "    </tr>\n",
       "    <tr>\n",
       "      <th>415288</th>\n",
       "      <td>149.99</td>\n",
       "      <td>9569753142128</td>\n",
       "      <td>25-1-1</td>\n",
       "    </tr>\n",
       "    <tr>\n",
       "      <th>415289</th>\n",
       "      <td>34.99</td>\n",
       "      <td>9795403001143</td>\n",
       "      <td>25-1-1</td>\n",
       "    </tr>\n",
       "    <tr>\n",
       "      <th>415290</th>\n",
       "      <td>312.50</td>\n",
       "      <td>9990385651922</td>\n",
       "      <td>5-1-4</td>\n",
       "    </tr>\n",
       "    <tr>\n",
       "      <th>415291</th>\n",
       "      <td>312.50</td>\n",
       "      <td>9990385651939</td>\n",
       "      <td>5-1-4</td>\n",
       "    </tr>\n",
       "    <tr>\n",
       "      <th>415292</th>\n",
       "      <td>198.90</td>\n",
       "      <td>9990385651946</td>\n",
       "      <td>5-1-4</td>\n",
       "    </tr>\n",
       "  </tbody>\n",
       "</table>\n",
       "<p>415293 rows × 3 columns</p>\n",
       "</div>"
      ],
      "text/plain": [
       "        precio    producto_id sucursal_id\n",
       "0        29.90  0000000002288     2-1-009\n",
       "1        32.90  0000000002288     2-1-037\n",
       "2        36.90  0000000002288     2-1-090\n",
       "3        39.90  0000000002288     2-3-247\n",
       "4       499.99  0000000205870     9-1-430\n",
       "...        ...            ...         ...\n",
       "415288  149.99  9569753142128      25-1-1\n",
       "415289   34.99  9795403001143      25-1-1\n",
       "415290  312.50  9990385651922       5-1-4\n",
       "415291  312.50  9990385651939       5-1-4\n",
       "415292  198.90  9990385651946       5-1-4\n",
       "\n",
       "[415293 rows x 3 columns]"
      ]
     },
     "execution_count": 12,
     "metadata": {},
     "output_type": "execute_result"
    }
   ],
   "source": [
    "archivo_precios"
   ]
  },
  {
   "cell_type": "markdown",
   "metadata": {},
   "source": [
    "observo que hay punto decimal en la columna producto_id"
   ]
  },
  {
   "cell_type": "code",
   "execution_count": 13,
   "metadata": {},
   "outputs": [
    {
     "name": "stdout",
     "output_type": "stream",
     "text": [
      "precio         1960\n",
      "producto_id       6\n",
      "sucursal_id       6\n",
      "dtype: int64\n"
     ]
    }
   ],
   "source": [
    "print(archivo_precios.isnull().sum())"
   ]
  },
  {
   "cell_type": "markdown",
   "metadata": {},
   "source": [
    "Si sumo los nulos en col_added veo que hay mas de  mil registros"
   ]
  },
  {
   "cell_type": "code",
   "execution_count": 14,
   "metadata": {},
   "outputs": [
    {
     "name": "stdout",
     "output_type": "stream",
     "text": [
      "la cantidad de nulos es 1962 del total de 415293 \n",
      "\n",
      "El porcentaje de nulos del total es 0.47 %\n"
     ]
    }
   ],
   "source": [
    "new_df1=funciones_transformacion.columna_boolean_nan(archivo_precios)\n",
    "registros_totales=new_df1.shape[0]\n",
    "cantidad_de_nulos=new_df1[\"col_added\"].sum()\n",
    "porcentaje_de_nulos=(cantidad_de_nulos*100)/registros_totales\n",
    "\n",
    "print(\"la cantidad de nulos es\",cantidad_de_nulos,\"del total de\",registros_totales,\"\\n\")\n",
    "print(\"El porcentaje de nulos del total es\",\"{:.2f}\".format(porcentaje_de_nulos) ,\"%\")"
   ]
  },
  {
   "cell_type": "code",
   "execution_count": 16,
   "metadata": {},
   "outputs": [],
   "source": [
    "\n",
    "new_df=funciones_transformacion.columna_boolean_nan(archivo_precios)"
   ]
  },
  {
   "cell_type": "code",
   "execution_count": 20,
   "metadata": {},
   "outputs": [],
   "source": [
    "new_df1=new_df[new_df[\"col_added\"]==0]\n",
    "Archivo4_TablaPrecios=new_df1.copy()"
   ]
  },
  {
   "cell_type": "code",
   "execution_count": 21,
   "metadata": {},
   "outputs": [],
   "source": [
    "list_suc_unicos=funciones_transformacion.array_col_id_unicos(sucursal_df,\"id\")\n",
    "list_suc_prec=funciones_transformacion.array_col_id_unicos(Archivo4_TablaPrecios,\"sucursal_id\")"
   ]
  },
  {
   "cell_type": "code",
   "execution_count": 22,
   "metadata": {},
   "outputs": [],
   "source": [
    "new_TablaPrecios=funciones_transformacion.quitar_id_sucursal_invalidos(list_suc_unicos,list_suc_prec,Archivo4_TablaPrecios)\n",
    "Archivo2_1_TablaPrecios=pd.DataFrame()\n",
    "Archivo2_1_TablaPrecios=new_TablaPrecios"
   ]
  },
  {
   "cell_type": "code",
   "execution_count": 23,
   "metadata": {},
   "outputs": [
    {
     "data": {
      "text/html": [
       "<div>\n",
       "<style scoped>\n",
       "    .dataframe tbody tr th:only-of-type {\n",
       "        vertical-align: middle;\n",
       "    }\n",
       "\n",
       "    .dataframe tbody tr th {\n",
       "        vertical-align: top;\n",
       "    }\n",
       "\n",
       "    .dataframe thead th {\n",
       "        text-align: right;\n",
       "    }\n",
       "</style>\n",
       "<table border=\"1\" class=\"dataframe\">\n",
       "  <thead>\n",
       "    <tr style=\"text-align: right;\">\n",
       "      <th></th>\n",
       "      <th>precio</th>\n",
       "      <th>producto_id</th>\n",
       "      <th>sucursal_id</th>\n",
       "      <th>col_added</th>\n",
       "    </tr>\n",
       "  </thead>\n",
       "  <tbody>\n",
       "    <tr>\n",
       "      <th>0</th>\n",
       "      <td>29.90</td>\n",
       "      <td>0000000002288</td>\n",
       "      <td>2-1-009</td>\n",
       "      <td>0</td>\n",
       "    </tr>\n",
       "    <tr>\n",
       "      <th>1</th>\n",
       "      <td>32.90</td>\n",
       "      <td>0000000002288</td>\n",
       "      <td>2-1-037</td>\n",
       "      <td>0</td>\n",
       "    </tr>\n",
       "    <tr>\n",
       "      <th>2</th>\n",
       "      <td>36.90</td>\n",
       "      <td>0000000002288</td>\n",
       "      <td>2-1-090</td>\n",
       "      <td>0</td>\n",
       "    </tr>\n",
       "    <tr>\n",
       "      <th>3</th>\n",
       "      <td>39.90</td>\n",
       "      <td>0000000002288</td>\n",
       "      <td>2-3-247</td>\n",
       "      <td>0</td>\n",
       "    </tr>\n",
       "    <tr>\n",
       "      <th>4</th>\n",
       "      <td>499.99</td>\n",
       "      <td>0000000205870</td>\n",
       "      <td>9-1-430</td>\n",
       "      <td>0</td>\n",
       "    </tr>\n",
       "    <tr>\n",
       "      <th>...</th>\n",
       "      <td>...</td>\n",
       "      <td>...</td>\n",
       "      <td>...</td>\n",
       "      <td>...</td>\n",
       "    </tr>\n",
       "    <tr>\n",
       "      <th>415288</th>\n",
       "      <td>149.99</td>\n",
       "      <td>9569753142128</td>\n",
       "      <td>25-1-1</td>\n",
       "      <td>0</td>\n",
       "    </tr>\n",
       "    <tr>\n",
       "      <th>415289</th>\n",
       "      <td>34.99</td>\n",
       "      <td>9795403001143</td>\n",
       "      <td>25-1-1</td>\n",
       "      <td>0</td>\n",
       "    </tr>\n",
       "    <tr>\n",
       "      <th>415290</th>\n",
       "      <td>312.50</td>\n",
       "      <td>9990385651922</td>\n",
       "      <td>5-1-4</td>\n",
       "      <td>0</td>\n",
       "    </tr>\n",
       "    <tr>\n",
       "      <th>415291</th>\n",
       "      <td>312.50</td>\n",
       "      <td>9990385651939</td>\n",
       "      <td>5-1-4</td>\n",
       "      <td>0</td>\n",
       "    </tr>\n",
       "    <tr>\n",
       "      <th>415292</th>\n",
       "      <td>198.90</td>\n",
       "      <td>9990385651946</td>\n",
       "      <td>5-1-4</td>\n",
       "      <td>0</td>\n",
       "    </tr>\n",
       "  </tbody>\n",
       "</table>\n",
       "<p>413331 rows × 4 columns</p>\n",
       "</div>"
      ],
      "text/plain": [
       "        precio    producto_id sucursal_id  col_added\n",
       "0        29.90  0000000002288     2-1-009          0\n",
       "1        32.90  0000000002288     2-1-037          0\n",
       "2        36.90  0000000002288     2-1-090          0\n",
       "3        39.90  0000000002288     2-3-247          0\n",
       "4       499.99  0000000205870     9-1-430          0\n",
       "...        ...            ...         ...        ...\n",
       "415288  149.99  9569753142128      25-1-1          0\n",
       "415289   34.99  9795403001143      25-1-1          0\n",
       "415290  312.50  9990385651922       5-1-4          0\n",
       "415291  312.50  9990385651939       5-1-4          0\n",
       "415292  198.90  9990385651946       5-1-4          0\n",
       "\n",
       "[413331 rows x 4 columns]"
      ]
     },
     "execution_count": 23,
     "metadata": {},
     "output_type": "execute_result"
    }
   ],
   "source": [
    "Archivo2_1_TablaPrecios"
   ]
  },
  {
   "cell_type": "code",
   "execution_count": 24,
   "metadata": {},
   "outputs": [
    {
     "name": "stdout",
     "output_type": "stream",
     "text": [
      "   precio    producto_id sucursal_id\n",
      "0   29.90  0000000002288     2-1-009\n",
      "1   32.90  0000000002288     2-1-037\n",
      "2   36.90  0000000002288     2-1-090\n",
      "3   39.90  0000000002288     2-3-247\n",
      "4  499.99  0000000205870     9-1-430\n"
     ]
    }
   ],
   "source": [
    "print(Archivo2_TablaPrecios.head())"
   ]
  }
 ],
 "metadata": {
  "kernelspec": {
   "display_name": "Python 3.10.2 64-bit",
   "language": "python",
   "name": "python3"
  },
  "language_info": {
   "codemirror_mode": {
    "name": "ipython",
    "version": 3
   },
   "file_extension": ".py",
   "mimetype": "text/x-python",
   "name": "python",
   "nbconvert_exporter": "python",
   "pygments_lexer": "ipython3",
   "version": "3.9.13"
  },
  "orig_nbformat": 4,
  "vscode": {
   "interpreter": {
    "hash": "369f2c481f4da34e4445cda3fffd2e751bd1c4d706f27375911949ba6bb62e1c"
   }
  }
 },
 "nbformat": 4,
 "nbformat_minor": 2
}
