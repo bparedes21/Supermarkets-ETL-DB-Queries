{
 "cells": [
  {
   "cell_type": "code",
   "execution_count": 1,
   "metadata": {},
   "outputs": [],
   "source": [
    "import pandas as pd"
   ]
  },
  {
   "cell_type": "code",
   "execution_count": 2,
   "metadata": {},
   "outputs": [],
   "source": [
    "import funciones_transformacion"
   ]
  },
  {
   "cell_type": "code",
   "execution_count": 3,
   "metadata": {},
   "outputs": [
    {
     "name": "stdout",
     "output_type": "stream",
     "text": [
      "   precio    producto_id sucursal_id\n",
      "0   29.90  0000000001663     2-1-014\n",
      "1   29.90  0000000002288     2-1-032\n",
      "2   39.90  0000000002288     2-1-096\n",
      "3  499.99  0000000205870     9-1-686\n",
      "4  519.99  0000000205870     9-2-248\n"
     ]
    }
   ],
   "source": [
    "#primer archivo a procesar e insertar en la base de datos\n",
    "#nombre del archivo precios_semana_20200413\n",
    "url = \"https://drive.google.com/file/d/1cYv46Y1Kt1xRKJdJn0hXQtL7jbSd_rNr/view?usp=sharing\"\n",
    "file_id=url.split('/')[-2]\n",
    "dwn_url='https://drive.google.com/uc?id=' + file_id\n",
    "#archivo csv que descargo desde el drive\n",
    "Archivo1_TablaPrecios = pd.read_csv(dwn_url , encoding='UTF-16')\n",
    "#tiene tres columnas precio, producto_id, sucursal_id\n",
    "print(Archivo1_TablaPrecios.head())"
   ]
  },
  {
   "cell_type": "code",
   "execution_count": 5,
   "metadata": {},
   "outputs": [
    {
     "data": {
      "text/plain": [
       "precio         13\n",
       "producto_id    15\n",
       "sucursal_id    15\n",
       "dtype: int64"
      ]
     },
     "execution_count": 5,
     "metadata": {},
     "output_type": "execute_result"
    }
   ],
   "source": [
    "Archivo1_TablaPrecios.isnull().sum()"
   ]
  },
  {
   "cell_type": "markdown",
   "metadata": {},
   "source": [
    "filtro los nan buscando en la columna col_added los 1 (unos)"
   ]
  },
  {
   "cell_type": "code",
   "execution_count": 6,
   "metadata": {},
   "outputs": [],
   "source": [
    "\n",
    "new_df=funciones_transformacion.columna_boolean_nan(Archivo1_TablaPrecios)\n"
   ]
  },
  {
   "cell_type": "code",
   "execution_count": 7,
   "metadata": {},
   "outputs": [],
   "source": [
    "Archivo1_TablaPrecios=pd.DataFrame()"
   ]
  },
  {
   "cell_type": "markdown",
   "metadata": {},
   "source": [
    "sumando los nulos de la siguiente manera se puede observar que hay 13 nulos en precios y 15 en sucursal_id"
   ]
  },
  {
   "cell_type": "code",
   "execution_count": 8,
   "metadata": {},
   "outputs": [
    {
     "data": {
      "text/plain": [
       "precio         13\n",
       "producto_id    15\n",
       "sucursal_id    15\n",
       "col_added       0\n",
       "dtype: int64"
      ]
     },
     "execution_count": 8,
     "metadata": {},
     "output_type": "execute_result"
    }
   ],
   "source": [
    "new_df.isnull().sum()"
   ]
  },
  {
   "cell_type": "markdown",
   "metadata": {},
   "source": [
    "teniendo en cuenta la columna booleana col_added donde 1 significa que hay una columna con nulos se puede observar que hay 2 datos en la columna precio sin producto id y sin sucursal id"
   ]
  },
  {
   "cell_type": "code",
   "execution_count": 9,
   "metadata": {},
   "outputs": [
    {
     "name": "stdout",
     "output_type": "stream",
     "text": [
      "        precio producto_id sucursal_id  col_added\n",
      "246393     NaN         NaN         NaN          1\n",
      "246748     NaN         NaN         NaN          1\n",
      "246882     NaN         NaN         NaN          1\n",
      "246978     NaN         NaN         NaN          1\n",
      "247033     NaN         NaN         NaN          1\n",
      "247079  451.00         NaN         NaN          1\n",
      "247167     NaN         NaN         NaN          1\n",
      "247310     NaN         NaN         NaN          1\n",
      "247404     NaN         NaN         NaN          1\n",
      "247405     NaN         NaN         NaN          1\n",
      "247520     NaN         NaN         NaN          1\n",
      "247560   20.14         NaN         NaN          1\n",
      "247660     NaN         NaN         NaN          1\n",
      "459373     NaN         NaN         NaN          1\n",
      "459568     NaN         NaN         NaN          1\n"
     ]
    }
   ],
   "source": [
    "print(new_df[new_df[\"col_added\"]==1])"
   ]
  },
  {
   "cell_type": "code",
   "execution_count": 10,
   "metadata": {},
   "outputs": [
    {
     "name": "stdout",
     "output_type": "stream",
     "text": [
      "la cantidad de nulos es 15 del total de 472166 \n",
      "\n",
      "El porcentaje de nulos del total es 0.00 %\n"
     ]
    }
   ],
   "source": [
    "registros_totales=new_df.shape[0]\n",
    "cantidad_de_nulos=new_df[\"col_added\"].sum()\n",
    "porcentaje_de_nulos=(cantidad_de_nulos*100)/registros_totales\n",
    "\n",
    "print(\"la cantidad de nulos es\",cantidad_de_nulos,\"del total de\",registros_totales,\"\\n\")\n",
    "print(\"El porcentaje de nulos del total es\",\"{:.2f}\".format(porcentaje_de_nulos) ,\"%\")"
   ]
  },
  {
   "cell_type": "code",
   "execution_count": 11,
   "metadata": {},
   "outputs": [],
   "source": [
    "new_df1=new_df[new_df[\"col_added\"]==0]\n",
    "Archivo1_TablaPrecios=new_df1.copy()\n",
    "new_df2=funciones_transformacion.sacar_punto_decimal_de_producto_id(Archivo1_TablaPrecios)\n",
    "Archivo1_TablaPrecios=pd.DataFrame()\n",
    "Archivo1_TablaPrecios=new_df2.copy()"
   ]
  },
  {
   "cell_type": "code",
   "execution_count": 12,
   "metadata": {},
   "outputs": [],
   "source": [
    "Archivo1_TablaPrecios=Archivo1_TablaPrecios.drop(columns=\"col_added\")"
   ]
  },
  {
   "cell_type": "markdown",
   "metadata": {},
   "source": [
    "Archivo sin id_sucursal no validos"
   ]
  },
  {
   "cell_type": "code",
   "execution_count": 42,
   "metadata": {},
   "outputs": [],
   "source": [
    "Archivo1_TablaPrecios.to_csv(\"Archivo1_TablaPrecios.csv\")"
   ]
  }
 ],
 "metadata": {
  "kernelspec": {
   "display_name": "Python 3.10.2 64-bit",
   "language": "python",
   "name": "python3"
  },
  "language_info": {
   "codemirror_mode": {
    "name": "ipython",
    "version": 3
   },
   "file_extension": ".py",
   "mimetype": "text/x-python",
   "name": "python",
   "nbconvert_exporter": "python",
   "pygments_lexer": "ipython3",
   "version": "3.9.13"
  },
  "orig_nbformat": 4,
  "vscode": {
   "interpreter": {
    "hash": "369f2c481f4da34e4445cda3fffd2e751bd1c4d706f27375911949ba6bb62e1c"
   }
  }
 },
 "nbformat": 4,
 "nbformat_minor": 2
}
