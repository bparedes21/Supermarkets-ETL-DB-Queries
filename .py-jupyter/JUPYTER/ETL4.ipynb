{
 "cells": [
  {
   "cell_type": "code",
   "execution_count": 1,
   "metadata": {},
   "outputs": [],
   "source": [
    "import pandas as pd"
   ]
  },
  {
   "cell_type": "code",
   "execution_count": 2,
   "metadata": {},
   "outputs": [],
   "source": [
    "import funciones_transformacion"
   ]
  },
  {
   "cell_type": "code",
   "execution_count": 3,
   "metadata": {},
   "outputs": [
    {
     "name": "stdout",
     "output_type": "stream",
     "text": [
      "         id  comercioId  banderaId      banderaDescripcion  \\\n",
      "0     1-1-7           1          1              Super MAMI   \n",
      "1    10-1-1          10          1  Hipermercado Carrefour   \n",
      "2   10-1-10          10          1  Hipermercado Carrefour   \n",
      "3   10-1-11          10          1  Hipermercado Carrefour   \n",
      "4  10-1-112          10          1  Hipermercado Carrefour   \n",
      "\n",
      "  comercioRazonSocial provincia            localidad  \\\n",
      "0     Dinosaurio S.A.      AR-X          SALSIPUEDES   \n",
      "1            INC S.A.      AR-B           San Isidro   \n",
      "2            INC S.A.      AR-B           Hurlingham   \n",
      "3            INC S.A.      AR-B  Malvinas Argentinas   \n",
      "4            INC S.A.      AR-A                Salta   \n",
      "\n",
      "                   direccion        lat        lng       sucursalNombre  \\\n",
      "0              E53 1011 None -31.126667 -64.295250         Super Mami 4   \n",
      "1  Bernardo De Irigoyen 2647 -34.491345 -58.589025           San Isidro   \n",
      "2           Av. Vergara 1910 -34.620610 -58.633769          Villa Tesei   \n",
      "3      Av. Arturo Illia 3770 -34.528883 -58.701631  Malvinas Argentinas   \n",
      "4           20 De Febrero 37 -24.789072 -65.413699                Salta   \n",
      "\n",
      "   sucursalTipo  \n",
      "0  Hipermercado  \n",
      "1  Hipermercado  \n",
      "2  Hipermercado  \n",
      "3  Hipermercado  \n",
      "4  Hipermercado  \n"
     ]
    }
   ],
   "source": [
    "#archivo para crear  lista de sucursal_id\n",
    "#nombre del archivo sucursal\n",
    "url = \"https://drive.google.com/file/d/1skuhvdTkgh_GZ9wL0FEf3uxSZu7wU-mX/view?usp=sharing\"\n",
    "file_id=url.split('/')[-2]\n",
    "dwn_url='https://drive.google.com/uc?id=' + file_id\n",
    "#archivo csv que descargo desde el drive\n",
    "Archivo_sucursal= pd.read_csv(dwn_url)\n",
    "#tiene tres columnas precio, producto_id, sucursal_id\n",
    "print(Archivo_sucursal.head())"
   ]
  },
  {
   "cell_type": "code",
   "execution_count": 4,
   "metadata": {},
   "outputs": [
    {
     "name": "stdout",
     "output_type": "stream",
     "text": [
      "id                     0\n",
      "comercioId             0\n",
      "banderaId              0\n",
      "banderaDescripcion     0\n",
      "comercioRazonSocial    0\n",
      "provincia              0\n",
      "localidad              0\n",
      "direccion              0\n",
      "lat                    0\n",
      "lng                    0\n",
      "sucursalNombre         0\n",
      "sucursalTipo           0\n",
      "dtype: int64\n"
     ]
    }
   ],
   "source": [
    "print(Archivo_sucursal.isnull().sum())"
   ]
  },
  {
   "cell_type": "code",
   "execution_count": 4,
   "metadata": {},
   "outputs": [],
   "source": [
    "list_sucursal=list(Archivo_sucursal[\"id\"])"
   ]
  },
  {
   "cell_type": "code",
   "execution_count": 5,
   "metadata": {},
   "outputs": [],
   "source": [
    "list_sucursal=funciones_transformacion.cambiar_separadores_de_sucursal_id(list_sucursal)"
   ]
  },
  {
   "cell_type": "code",
   "execution_count": 6,
   "metadata": {},
   "outputs": [],
   "source": [
    "new_df=pd.DataFrame()"
   ]
  },
  {
   "cell_type": "code",
   "execution_count": 7,
   "metadata": {},
   "outputs": [],
   "source": [
    "new_df[\"id\"]=list_sucursal"
   ]
  },
  {
   "cell_type": "markdown",
   "metadata": {},
   "source": [
    "Tercer archivo"
   ]
  },
  {
   "cell_type": "code",
   "execution_count": 15,
   "metadata": {},
   "outputs": [],
   "source": [
    "new_df.to_csv(\"Sucursal_procesado.csv\")"
   ]
  }
 ],
 "metadata": {
  "kernelspec": {
   "display_name": "Python 3.10.2 64-bit",
   "language": "python",
   "name": "python3"
  },
  "language_info": {
   "codemirror_mode": {
    "name": "ipython",
    "version": 3
   },
   "file_extension": ".py",
   "mimetype": "text/x-python",
   "name": "python",
   "nbconvert_exporter": "python",
   "pygments_lexer": "ipython3",
   "version": "3.9.13"
  },
  "orig_nbformat": 4,
  "vscode": {
   "interpreter": {
    "hash": "369f2c481f4da34e4445cda3fffd2e751bd1c4d706f27375911949ba6bb62e1c"
   }
  }
 },
 "nbformat": 4,
 "nbformat_minor": 2
}
