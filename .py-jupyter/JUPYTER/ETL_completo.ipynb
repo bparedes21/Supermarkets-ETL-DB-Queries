{
 "cells": [
  {
   "cell_type": "code",
   "execution_count": 1,
   "metadata": {},
   "outputs": [],
   "source": [
    "import pandas as pd"
   ]
  },
  {
   "cell_type": "code",
   "execution_count": 2,
   "metadata": {},
   "outputs": [],
   "source": [
    "import extraccion_de_archivos\n",
    "import funciones_transformacion"
   ]
  },
  {
   "cell_type": "code",
   "execution_count": 3,
   "metadata": {},
   "outputs": [],
   "source": [
    "sucursal_df,productos_df,precios_semana_20200413_df,precios_20200419_20200419_df,precios_20200426_20200426_df,precios_semana_20200503_df,precios_semana_20200518_df=funciones_transformacion.transformar_todos_los_archivos()"
   ]
  },
  {
   "cell_type": "code",
   "execution_count": 4,
   "metadata": {},
   "outputs": [
    {
     "data": {
      "text/plain": [
       "Index(['sucursal_id', 'comercioId', 'banderaId', 'banderaDescripcion',\n",
       "       'comercioRazonSocial', 'provincia', 'localidad', 'direccion', 'lat',\n",
       "       'lng', 'sucursalNombre', 'sucursalTipo'],\n",
       "      dtype='object')"
      ]
     },
     "execution_count": 4,
     "metadata": {},
     "output_type": "execute_result"
    }
   ],
   "source": [
    "sucursal_df.columns"
   ]
  },
  {
   "cell_type": "code",
   "execution_count": 5,
   "metadata": {},
   "outputs": [
    {
     "data": {
      "text/plain": [
       "Index(['producto_id', 'marca', 'nombre', 'presentacion', 'categoria1',\n",
       "       'categoria2', 'categoria3'],\n",
       "      dtype='object')"
      ]
     },
     "execution_count": 5,
     "metadata": {},
     "output_type": "execute_result"
    }
   ],
   "source": [
    "productos_df.columns"
   ]
  },
  {
   "cell_type": "code",
   "execution_count": 8,
   "metadata": {},
   "outputs": [
    {
     "name": "stdout",
     "output_type": "stream",
     "text": [
      "Tabla 'sucursal' creada exitosamente.\n",
      "Tabla 'precio' creada exitosamente.\n",
      "Tabla 'producto' creada exitosamente.\n"
     ]
    }
   ],
   "source": [
    "import sqlite3\n",
    "\n",
    "# Conectar a la base de datos (si no existe, se creará)\n",
    "conn = sqlite3.connect('mi_base_de_datos.db')\n",
    "\n",
    "# Crear un objeto cursor para ejecutar comandos SQL\n",
    "cursor = conn.cursor()\n",
    "\n",
    "# Comando SQL para crear una tabla llamada 'sucursal' con dos columnas de IDs y una columna de precios\n",
    "cursor.execute('''DROP TABLE IF EXISTS sucursal;''')\n",
    "create_table_query = '''\n",
    "CREATE TABLE sucursal (\n",
    "    sucursal_id TEXT NOT NULL PRIMARY KEY,\n",
    "    comercioId INTEGER NOT NULL,\n",
    "\tbanderaId INTEGER NOT NULL,\n",
    "    banderaDescripcion TEXT,\n",
    "    comercioRazonSocial\tTEXT,\n",
    "    provincia TEXT,\n",
    "    localidad TEXT\n",
    "    direccion TEXT\n",
    "    lat\tTEXT\n",
    "    lng\tTEXT\n",
    "    sucursalNombre TEXT\n",
    "    sucursalTipo TEXT\n",
    "    FOREIGN KEY(sucursal_id) REFERENCES sucursal(sucursal_id)\n",
    ");\n",
    "'''\n",
    "print(\"Tabla 'sucursal' creada exitosamente.\")\n",
    "#borrar tabla precio si existe\n",
    "cursor.execute('''DROP TABLE IF EXISTS precio;''')\n",
    "\n",
    "# Comando SQL para crear una tabla llamada 'precio' con dos columnas de IDs y una columna de precios\n",
    "create_table_query = '''\n",
    "CREATE TABLE precio (\n",
    "    sucursal_id TEXT NOT NULL,\n",
    "    producto_id INTEGER NOT NULL,\n",
    "    precio REAL,\n",
    "    FOREIGN KEY(sucursal_id) REFERENCES sucursal(sucursal_id),\n",
    "    FOREIGN KEY(producto_id) REFERENCES sucursal(producto_id)\n",
    ");\n",
    "'''\n",
    "print(\"Tabla 'precio' creada exitosamente.\")\n",
    "#borrar tabla precio si existe\n",
    "cursor.execute('''DROP TABLE IF EXISTS producto;''')\n",
    "# Comando SQL para crear una tabla llamada 'producto' con dos columnas de IDs y una columna de precios\n",
    "create_table_query = '''\n",
    "CREATE TABLE producto (\n",
    "    producto_id INTEGER NOT NULL PRIMARY KEY,\n",
    "    marca TEXT,\n",
    "    nombre TEXT,\n",
    "    presentacion TEXT,\n",
    "    categoria1 TEXT,\n",
    "    categoria2 TEXT,\n",
    "    categoria3 TEXT\n",
    ");\n",
    "'''\n",
    "\n",
    "# Ejecutar el comando SQL para crear la tabla\n",
    "cursor.execute(create_table_query)\n",
    "\n",
    "# Guardar los cambios y cerrar la conexión\n",
    "\n",
    "\n",
    "print(\"Tabla 'producto' creada exitosamente.\")\n"
   ]
  },
  {
   "cell_type": "code",
   "execution_count": 7,
   "metadata": {},
   "outputs": [
    {
     "data": {
      "text/plain": [
       "(472151, 3)"
      ]
     },
     "execution_count": 7,
     "metadata": {},
     "output_type": "execute_result"
    }
   ],
   "source": [
    "precios_semana_20200413_df.shape"
   ]
  },
  {
   "cell_type": "code",
   "execution_count": 9,
   "metadata": {},
   "outputs": [],
   "source": [
    "# Insertar o actualizar los datos en la tabla precio\n",
    "sucursal_df.to_sql('sucursal', conn, if_exists='replace', index=False, index_label='sucursal_id')\n",
    "\n",
    "# Guardar los cambios \n",
    "conn.commit()"
   ]
  },
  {
   "cell_type": "code",
   "execution_count": 11,
   "metadata": {},
   "outputs": [
    {
     "name": "stdout",
     "output_type": "stream",
     "text": [
      "En la tabla sucursal se insertaron 2333\n"
     ]
    }
   ],
   "source": [
    "cursor.execute('SELECT COUNT(*) FROM sucursal')\n",
    "\n",
    "# Obtener el resultado de la consulta\n",
    "cantidad_registros = cursor.fetchone()[0]\n",
    "print(\"En la tabla sucursal se insertaron\",cantidad_registros)"
   ]
  },
  {
   "cell_type": "code",
   "execution_count": 12,
   "metadata": {},
   "outputs": [],
   "source": [
    "# Insertar o actualizar los datos en la tabla precio\n",
    "productos_df.to_sql('producto', conn, if_exists='replace', index=False, index_label='sucursal_id')\n",
    "\n",
    "# Guardar los cambios \n",
    "conn.commit()"
   ]
  },
  {
   "cell_type": "code",
   "execution_count": 13,
   "metadata": {},
   "outputs": [
    {
     "name": "stdout",
     "output_type": "stream",
     "text": [
      "En la tabla sucursal se insertaron 72038\n"
     ]
    }
   ],
   "source": [
    "cursor.execute('SELECT COUNT(*) FROM producto')\n",
    "\n",
    "# Obtener el resultado de la consulta\n",
    "cantidad_registros = cursor.fetchone()[0]\n",
    "print(\"En la tabla sucursal se insertaron\",cantidad_registros)"
   ]
  },
  {
   "cell_type": "markdown",
   "metadata": {},
   "source": [
    "inserto o actualizo los registros en la tabla precio los siguintes archivos:\n",
    "precios_semana_20200413_df,\n",
    "precios_20200419_20200419_df,\n",
    "precios_20200426_20200426_df,\n",
    "precios_semana_20200503_df,\n",
    "precios_semana_20200518_df"
   ]
  },
  {
   "cell_type": "code",
   "execution_count": 63,
   "metadata": {},
   "outputs": [],
   "source": [
    "# Insertar o actualizar los datos en la tabla precio\n",
    "precios_semana_20200413_df.to_sql('precio', conn, if_exists='replace', index=False, index_label='sucursal_id')\n",
    "\n",
    "# Guardar los cambios \n",
    "conn.commit()\n"
   ]
  },
  {
   "cell_type": "code",
   "execution_count": 9,
   "metadata": {},
   "outputs": [
    {
     "name": "stdout",
     "output_type": "stream",
     "text": [
      "En la tabla precio se insertaron 472151\n"
     ]
    }
   ],
   "source": [
    "cursor.execute('SELECT COUNT(*) FROM precio')\n",
    "\n",
    "# Obtener el resultado de la consulta\n",
    "cantidad_registros = cursor.fetchone()[0]\n",
    "print(\"En la tabla precio se insertaron\",cantidad_registros)"
   ]
  },
  {
   "cell_type": "code",
   "execution_count": 64,
   "metadata": {},
   "outputs": [],
   "source": [
    "precios_actualizados=pd.concat([precios_semana_20200413_df,precios_20200419_20200419_df]).drop_duplicates(subset =[ 'sucursal_id','producto_id'],keep='first').reset_index(drop=True)"
   ]
  },
  {
   "cell_type": "code",
   "execution_count": 59,
   "metadata": {},
   "outputs": [
    {
     "data": {
      "text/plain": [
       "(760463, 3)"
      ]
     },
     "execution_count": 59,
     "metadata": {},
     "output_type": "execute_result"
    }
   ],
   "source": [
    "precios_actualizados.shape"
   ]
  },
  {
   "cell_type": "code",
   "execution_count": 65,
   "metadata": {},
   "outputs": [],
   "source": [
    "# Insertar o actualizar los datos en la tabla precio\n",
    "precios_actualizados.to_sql('precio', conn, if_exists='replace', index=False, index_label='sucursal_id')\n",
    "\n",
    "# Guardar los cambios \n",
    "conn.commit()\n"
   ]
  },
  {
   "cell_type": "code",
   "execution_count": 11,
   "metadata": {},
   "outputs": [
    {
     "data": {
      "text/plain": [
       "(444272, 3)"
      ]
     },
     "execution_count": 11,
     "metadata": {},
     "output_type": "execute_result"
    }
   ],
   "source": [
    "precios_20200419_20200419_df.shape\n"
   ]
  },
  {
   "cell_type": "code",
   "execution_count": 66,
   "metadata": {},
   "outputs": [
    {
     "name": "stdout",
     "output_type": "stream",
     "text": [
      "En la tabla precio se insertaron 760463\n"
     ]
    }
   ],
   "source": [
    "cursor.execute('SELECT COUNT(*) FROM precio')\n",
    "\n",
    "# Obtener el resultado de la consulta\n",
    "cantidad_registros = cursor.fetchone()[0]\n",
    "print(\"En la tabla precio se insertaron\",cantidad_registros)"
   ]
  },
  {
   "cell_type": "code",
   "execution_count": 69,
   "metadata": {},
   "outputs": [],
   "source": [
    "#consula selecciono todo de la tabla precio\n",
    "query = 'SELECT * FROM precio'\n",
    "#almaceno en df\n",
    "df_precios_antiguos = pd.read_sql(query, conn)\n",
    "#creo el dataframe precios_actualizados\n",
    "precios_actualizados=pd.DataFrame()\n",
    "#borro los primeros registros duplicados\n",
    "precios_actualizados=pd.concat([df_precios_antiguos,precios_20200426_20200426_df]).drop_duplicates(subset =[ 'sucursal_id','producto_id'],keep='first').reset_index(drop=True)\n",
    "# Insertar o actualizar los datos en la tabla precio\n",
    "precios_actualizados.to_sql('precio',  conn, if_exists='replace', index=False, index_label='sucursal_id')\n",
    "\n",
    "# Guardar los cambios \n",
    "conn.commit()"
   ]
  },
  {
   "cell_type": "code",
   "execution_count": 72,
   "metadata": {},
   "outputs": [
    {
     "data": {
      "text/plain": [
       "(959302, 3)"
      ]
     },
     "execution_count": 72,
     "metadata": {},
     "output_type": "execute_result"
    }
   ],
   "source": [
    "precios_actualizados.shape"
   ]
  },
  {
   "cell_type": "code",
   "execution_count": 71,
   "metadata": {},
   "outputs": [],
   "source": [
    "\n",
    "#consula selecciono todo de la tabla precio\n",
    "query = 'SELECT * FROM precio'\n",
    "#almaceno en df\n",
    "df_precios_antiguos = pd.read_sql(query, conn)\n",
    "#creo el dataframe precios_actualizados\n",
    "precios_actualizados=pd.DataFrame()\n",
    "#borro los primeros registros duplicados\n",
    "precios_actualizados=pd.concat([df_precios_antiguos,precios_semana_20200503_df]).drop_duplicates(subset =[ 'sucursal_id','producto_id'],keep='first').reset_index(drop=True)\n",
    "# Insertar o actualizar los datos en la tabla precio\n",
    "precios_actualizados.to_sql('precio',  conn, if_exists='replace', index=False, index_label='sucursal_id')\n",
    "\n",
    "# Guardar los cambios \n",
    "conn.commit()"
   ]
  },
  {
   "cell_type": "code",
   "execution_count": 73,
   "metadata": {},
   "outputs": [],
   "source": [
    "#consula selecciono todo de la tabla precio\n",
    "query = 'SELECT * FROM precio'\n",
    "#almaceno en df\n",
    "df_precios_antiguos = pd.read_sql(query, conn)\n",
    "#creo el dataframe precios_actualizados\n",
    "precios_actualizados=pd.DataFrame()\n",
    "#borro los primeros registros duplicados\n",
    "precios_actualizados=pd.concat([df_precios_antiguos,precios_semana_20200518_df]).drop_duplicates(subset =[ 'sucursal_id','producto_id'],keep='first').reset_index(drop=True)\n",
    "# Insertar o actualizar los datos en la tabla precio\n",
    "precios_actualizados.to_sql('precio',  conn, if_exists='replace', index=False, index_label='sucursal_id')\n",
    "\n",
    "# Guardar los cambios \n",
    "conn.commit()"
   ]
  },
  {
   "cell_type": "code",
   "execution_count": 74,
   "metadata": {},
   "outputs": [
    {
     "name": "stdout",
     "output_type": "stream",
     "text": [
      "En la tabla precio se insertaron registros totales 1139820\n"
     ]
    }
   ],
   "source": [
    "cursor.execute('SELECT COUNT(*) FROM precio')\n",
    "\n",
    "# Obtener el resultado de la consulta\n",
    "cantidad_registros = cursor.fetchone()[0]\n",
    "print(\"En la tabla precio se insertaron registros totales\",cantidad_registros)"
   ]
  },
  {
   "cell_type": "code",
   "execution_count": 75,
   "metadata": {},
   "outputs": [
    {
     "name": "stdout",
     "output_type": "stream",
     "text": [
      "En la tabla precio se insertaron distintos 1139820\n"
     ]
    }
   ],
   "source": [
    "cursor.execute('SELECT COUNT(*) FROM (SELECT DISTINCT sucursal_id,producto_id FROM precio) as unique_combinations')\n",
    "\n",
    "# Obtener el resultado de la consulta\n",
    "cantidad_registros = cursor.fetchone()[0]\n",
    "print(\"En la tabla precio se insertaron distintos\",cantidad_registros)"
   ]
  },
  {
   "cell_type": "code",
   "execution_count": null,
   "metadata": {},
   "outputs": [],
   "source": [
    "conn.commit()\n",
    "conn.close()"
   ]
  }
 ],
 "metadata": {
  "kernelspec": {
   "display_name": "Python 3",
   "language": "python",
   "name": "python3"
  },
  "language_info": {
   "codemirror_mode": {
    "name": "ipython",
    "version": 3
   },
   "file_extension": ".py",
   "mimetype": "text/x-python",
   "name": "python",
   "nbconvert_exporter": "python",
   "pygments_lexer": "ipython3",
   "version": "3.9.13"
  }
 },
 "nbformat": 4,
 "nbformat_minor": 2
}
