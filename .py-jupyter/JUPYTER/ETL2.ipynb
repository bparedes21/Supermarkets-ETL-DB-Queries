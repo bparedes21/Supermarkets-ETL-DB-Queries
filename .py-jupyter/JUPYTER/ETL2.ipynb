{
 "cells": [
  {
   "cell_type": "code",
   "execution_count": 1,
   "metadata": {},
   "outputs": [],
   "source": [
    "import pandas as pd"
   ]
  },
  {
   "cell_type": "code",
   "execution_count": 15,
   "metadata": {},
   "outputs": [],
   "source": [
    "#pip install fastparquet"
   ]
  },
  {
   "cell_type": "code",
   "execution_count": 16,
   "metadata": {},
   "outputs": [],
   "source": [
    "#pip install pyarrow"
   ]
  },
  {
   "cell_type": "code",
   "execution_count": 2,
   "metadata": {},
   "outputs": [],
   "source": [
    "import funciones_transformacion"
   ]
  },
  {
   "cell_type": "code",
   "execution_count": 7,
   "metadata": {},
   "outputs": [],
   "source": [
    "#archivo sucursal \n",
    "#obtener ids del archivo\n",
    "url = \"https://drive.google.com/file/d/1skuhvdTkgh_GZ9wL0FEf3uxSZu7wU-mX/view?usp=sharing\"\n",
    "file_id=url.split('/')[-2]\n",
    "dwn_url='https://drive.google.com/uc?id=' + file_id\n",
    "#archivo csv que descargo desde el drive\n",
    "sucursal_df = pd.read_csv(dwn_url)\n"
   ]
  },
  {
   "cell_type": "code",
   "execution_count": 28,
   "metadata": {},
   "outputs": [
    {
     "name": "stdout",
     "output_type": "stream",
     "text": [
      "    precio sucursal_id  producto_id\n",
      "0    399.0     2-1-092       2288.0\n",
      "1    299.0     2-1-206       2288.0\n",
      "2    399.0     2-2-241       2288.0\n",
      "3  49999.0     9-1-430     205870.0\n",
      "4  53999.0       9-2-4     205870.0\n"
     ]
    }
   ],
   "source": [
    "#segundp archivo a procesar e insertar en la base de datos\n",
    "import pandas as pd\n",
    "sheet_id = \"16wYqUJX0X8tEcF7gzFxGVWOWsv-_5OIZ\"\n",
    "sheet_name = \"precios_20200426_20200426\"\n",
    "url = f\"https://docs.google.com/spreadsheets/d/{sheet_id}/gviz/tq?tqx=out:csv&sheet={sheet_name}\"\n",
    "#archivo csv que descargo desde el drive\n",
    "Archivo2_TablaPrecios = pd.read_csv(url )\n",
    "#tiene tres columnas precio, producto_id, sucursal_id\n",
    "#producto id tiene ceros a la izquierda\n",
    "print(Archivo2_TablaPrecios.head())"
   ]
  },
  {
   "cell_type": "markdown",
   "metadata": {},
   "source": [
    "observo que hay punto decimal en la columna producto_id"
   ]
  },
  {
   "cell_type": "code",
   "execution_count": 29,
   "metadata": {},
   "outputs": [
    {
     "name": "stdout",
     "output_type": "stream",
     "text": [
      "precio          1736\n",
      "sucursal_id        0\n",
      "producto_id    13519\n",
      "dtype: int64\n"
     ]
    }
   ],
   "source": [
    "print(Archivo2_TablaPrecios.isnull().sum())"
   ]
  },
  {
   "cell_type": "markdown",
   "metadata": {},
   "source": [
    "Si sumo los nulos en col_added veo que hay mas de  mil registros"
   ]
  },
  {
   "cell_type": "code",
   "execution_count": 30,
   "metadata": {},
   "outputs": [
    {
     "name": "stdout",
     "output_type": "stream",
     "text": [
      "la cantidad de nulos es 15156 del total de 478909 \n",
      "\n",
      "El porcentaje de nulos del total es 3.16 %\n"
     ]
    }
   ],
   "source": [
    "new_df1=funciones_transformacion.columna_boolean_nan(Archivo2_TablaPrecios)\n",
    "registros_totales=new_df1.shape[0]\n",
    "cantidad_de_nulos=new_df1[\"col_added\"].sum()\n",
    "porcentaje_de_nulos=(cantidad_de_nulos*100)/registros_totales\n",
    "\n",
    "print(\"la cantidad de nulos es\",cantidad_de_nulos,\"del total de\",registros_totales,\"\\n\")\n",
    "print(\"El porcentaje de nulos del total es\",\"{:.2f}\".format(porcentaje_de_nulos) ,\"%\")"
   ]
  },
  {
   "cell_type": "code",
   "execution_count": 31,
   "metadata": {},
   "outputs": [],
   "source": [
    "new_dataframe=funciones_transformacion.transformar_hoja_excel(Archivo2_TablaPrecios)\n",
    "Archivo2_TablaPrecios=pd.DataFrame()\n",
    "Archivo2_TablaPrecios=new_dataframe.copy()"
   ]
  },
  {
   "cell_type": "code",
   "execution_count": 32,
   "metadata": {},
   "outputs": [
    {
     "name": "stdout",
     "output_type": "stream",
     "text": [
      "    precio    producto_id sucursal_id\n",
      "0    399.0  0000000002288     2-1-092\n",
      "1    299.0  0000000002288     2-1-206\n",
      "2    399.0  0000000002288     2-2-241\n",
      "3  49999.0  0000000205870     9-1-430\n",
      "4  53999.0  0000000205870       9-2-4\n"
     ]
    }
   ],
   "source": [
    "print(Archivo2_TablaPrecios.head())"
   ]
  },
  {
   "cell_type": "markdown",
   "metadata": {},
   "source": [
    "Archivo sin id_sucursal no validos"
   ]
  },
  {
   "cell_type": "code",
   "execution_count": 8,
   "metadata": {},
   "outputs": [],
   "source": [
    "Archivo2_TablaPrecios.to_csv(\"Archivo2_TablaPrecios.csv\")"
   ]
  },
  {
   "cell_type": "code",
   "execution_count": 3,
   "metadata": {},
   "outputs": [
    {
     "name": "stdout",
     "output_type": "stream",
     "text": [
      "   precio sucursal_id  producto_id\n",
      "0    29.9     2-1-184       2288.0\n",
      "1    39.9     2-1-206       2288.0\n",
      "2  499.99     9-1-430     205870.0\n",
      "3  539.99     9-2-107     205870.0\n",
      "4  539.99    3/9/5218     205870.0\n"
     ]
    }
   ],
   "source": [
    "sheet_id = \"16wYqUJX0X8tEcF7gzFxGVWOWsv-_5OIZ\"\n",
    "sheet_name = \"precios_20200419_20200419\"\n",
    "url = f\"https://docs.google.com/spreadsheets/d/{sheet_id}/gviz/tq?tqx=out:csv&sheet={sheet_name}\"\n",
    "#archivo csv que descargo desde el drive\n",
    "Archivo2_1_TablaPrecios = pd.read_csv(url )\n",
    "#tiene tres columnas precio, producto_id, sucursal_id\n",
    "#producto id tiene ceros a la izquierda\n",
    "print(Archivo2_1_TablaPrecios.head())"
   ]
  },
  {
   "cell_type": "code",
   "execution_count": 4,
   "metadata": {},
   "outputs": [
    {
     "name": "stdout",
     "output_type": "stream",
     "text": [
      "la cantidad de nulos es 14271 del total de 458543 \n",
      "\n",
      "El porcentaje de nulos del total es 3.11 %\n"
     ]
    }
   ],
   "source": [
    "new_df1_2=funciones_transformacion.columna_boolean_nan(Archivo2_1_TablaPrecios)\n",
    "registros_totales=new_df1_2.shape[0]\n",
    "cantidad_de_nulos=new_df1_2[\"col_added\"].sum()\n",
    "porcentaje_de_nulos=(cantidad_de_nulos*100)/registros_totales\n",
    "\n",
    "print(\"la cantidad de nulos es\",cantidad_de_nulos,\"del total de\",registros_totales,\"\\n\")\n",
    "print(\"El porcentaje de nulos del total es\",\"{:.2f}\".format(porcentaje_de_nulos) ,\"%\")"
   ]
  },
  {
   "cell_type": "code",
   "execution_count": 5,
   "metadata": {},
   "outputs": [],
   "source": [
    "new_dataframe=funciones_transformacion.transformar_hoja_excel(Archivo2_1_TablaPrecios)\n",
    "Archivo2_1_TablaPrecios=pd.DataFrame()\n",
    "Archivo2_1_TablaPrecios=new_dataframe.copy()"
   ]
  },
  {
   "cell_type": "code",
   "execution_count": 48,
   "metadata": {},
   "outputs": [
    {
     "name": "stdout",
     "output_type": "stream",
     "text": [
      "   precio    producto_id sucursal_id\n",
      "0    29.9  0000000002288     2-1-184\n",
      "1    39.9  0000000002288     2-1-206\n",
      "2  499.99  0000000205870     9-1-430\n",
      "3  539.99  0000000205870     9-2-107\n",
      "4  539.99  0000000205870    3-9-5218\n"
     ]
    }
   ],
   "source": [
    "print(Archivo2_1_TablaPrecios.head())"
   ]
  },
  {
   "cell_type": "code",
   "execution_count": 8,
   "metadata": {},
   "outputs": [],
   "source": [
    "list_suc_unicos=funciones_transformacion.array_col_id_unicos(sucursal_df,\"id\")\n",
    "list_suc_prec=funciones_transformacion.array_col_id_unicos(Archivo2_1_TablaPrecios,\"sucursal_id\")"
   ]
  },
  {
   "cell_type": "code",
   "execution_count": 9,
   "metadata": {},
   "outputs": [],
   "source": [
    "new_TablaPrecios=funciones_transformacion.quitar_id_sucursal_invalidos(list_suc_unicos,list_suc_prec,Archivo2_1_TablaPrecios)\n",
    "Archivo2_1_TablaPrecios=pd.DataFrame()\n",
    "Archivo2_1_TablaPrecios=new_TablaPrecios"
   ]
  },
  {
   "cell_type": "code",
   "execution_count": null,
   "metadata": {},
   "outputs": [],
   "source": [
    "Archivo2_1_TablaPrecios.to_csv(\"Archivo2_1_TablaPrecios.csv\")"
   ]
  },
  {
   "cell_type": "code",
   "execution_count": 18,
   "metadata": {},
   "outputs": [],
   "source": [
    "#archivo producto \n",
    "#obtener ids del archivo\n",
    "url = \"https://drive.google.com/file/d/1SL3dMdr9yFuq8xpLK05j9pZYnJUtwuon/view?usp=sharing\"\n",
    "file_id=url.split('/')[-2]\n",
    "dwn_url='https://drive.google.com/uc?id=' + file_id\n",
    "#archivo csv que descargo desde el drive\n",
    "producto_df = pd.read_parquet(dwn_url)"
   ]
  }
 ],
 "metadata": {
  "kernelspec": {
   "display_name": "Python 3.10.2 64-bit",
   "language": "python",
   "name": "python3"
  },
  "language_info": {
   "codemirror_mode": {
    "name": "ipython",
    "version": 3
   },
   "file_extension": ".py",
   "mimetype": "text/x-python",
   "name": "python",
   "nbconvert_exporter": "python",
   "pygments_lexer": "ipython3",
   "version": "3.9.13"
  },
  "orig_nbformat": 4,
  "vscode": {
   "interpreter": {
    "hash": "369f2c481f4da34e4445cda3fffd2e751bd1c4d706f27375911949ba6bb62e1c"
   }
  }
 },
 "nbformat": 4,
 "nbformat_minor": 2
}
